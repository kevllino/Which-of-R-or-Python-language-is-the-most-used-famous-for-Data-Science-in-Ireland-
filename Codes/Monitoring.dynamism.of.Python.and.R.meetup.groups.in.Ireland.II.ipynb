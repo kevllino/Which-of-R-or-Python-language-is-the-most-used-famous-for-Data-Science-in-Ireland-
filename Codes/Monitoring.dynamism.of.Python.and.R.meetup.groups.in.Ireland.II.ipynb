{
 "cells": [
  {
   "cell_type": "markdown",
   "metadata": {},
   "source": [
    "# Monitoring dynamism of Python and R meetup groups in Ireland II"
   ]
  },
  {
   "cell_type": "code",
   "execution_count": 1,
   "metadata": {
    "collapsed": true
   },
   "outputs": [],
   "source": [
    "import pandas as pd\n",
    "from pandas import Series, DataFrame\n",
    "import dateutil\n",
    "import json\n",
    "import urllib2\n",
    "import time\n",
    "import math\n",
    "import plotly\n",
    "import plotly.plotly as py \n",
    "import plotly.tools as tls\n",
    "from plotly.graph_objs import * #Figure, Data, Layout \n",
    "import numpy as np\n"
   ]
  },
  {
   "cell_type": "markdown",
   "metadata": {},
   "source": [
    "# Data Collection and Processing using the Meetup API "
   ]
  },
  {
   "cell_type": "code",
   "execution_count": 2,
   "metadata": {
    "collapsed": false
   },
   "outputs": [],
   "source": [
    "\n",
    "eventsL = []\n",
    "for name in [\"DublinR\",\"Cork-Ireland-R-Users-Group\",\"pythonireland\",\"PyLadiesDublin\"]: \n",
    "        URL = \"https://api.meetup.com/2/events.json/?group_urlname=\" + name + \"&key=95c3a7577a477a7d105a70197b5755\"\n",
    "        group = json.load(urllib2.urlopen(URL))\n",
    "        eventsL.append(group)\n",
    "        \n",
    "#function used to return a dataframe giving information about each events: fgroup_name, date, number of yes_rsvp\n",
    "def get_event_details(group_urlname,URL):\n",
    "    group = json.load(urllib2.urlopen(URL))\n",
    "    eventr= DataFrame()\n",
    "    LEN = len(group[\"results\"])\n",
    "    event_name = []\n",
    "    group_name = []\n",
    "    event_date_ms = []\n",
    "    event_yes_rsvp =[]\n",
    "    status =[]\n",
    "\n",
    "    rsvp_limit = []\n",
    "    for i in range(0,LEN):\n",
    "        event_name.append(group[\"results\"][i][\"name\"])\n",
    "        group_name.append(group[\"results\"][i][\"group\"][\"urlname\"])\n",
    "        event_date_ms.append(group[\"results\"][i][\"time\"])\n",
    "        event_yes_rsvp.append(group[\"results\"][i][\"yes_rsvp_count\"])\n",
    "        #waiting_list.append(group[\"results\"][i][\"waitlist_count\"])\n",
    "        try:\n",
    "            rsvp_limit.append(group[\"results\"][i][\"rsvp_limit\"])\n",
    "        except KeyError: \n",
    "            rsvp_limit.append(0)\n",
    "        status.append(group[\"results\"][i][\"status\"])\n",
    "    \n",
    "    event_date = [x / 1000 for x in event_date_ms]\n",
    "    events= DataFrame()\n",
    "    events[\"Event Name\"] = Series(event_name)\n",
    "    events[\"Group Name\"] = Series(group_name)\n",
    "    events[\"Date\"] = map(lambda date: time.strftime('%Y-%m-%d %H:%M:%S', time.localtime(date)),event_date)\n",
    "    events[\"Number of yes_rsvp\"] = Series(event_yes_rsvp)\n",
    "    #events[\"Waiting List\"] = Series(waiting_list)\n",
    "    events[\"Rsvp Limit\"] = Series(rsvp_limit)\n",
    "    events[\"Status\"] = Series(status)\n",
    "    return events\n",
    "\n",
    "list = []\n",
    "for group in [\"DublinR\",\"Cork-Ireland-R-Users-Group\",\"pythonireland\",\"PyLadiesDublin\"]:\n",
    "    for url in [\"https://api.meetup.com/2/events.json/?group_urlname=\"+ group + \"&key=95c3a7577a477a7d105a70197b5755\",\"https://api.meetup.com/2/events.json/?group_urlname=\" + group + \"&status=past&key=95c3a7577a477a7d105a70197b5755\"]:\n",
    "        df = get_event_details(group, url)\n",
    "        list.append(df)\n",
    "\n",
    "#concatenate all DataFrames into one\n",
    "all_events = pd.concat(list, ignore_index=True)\n",
    "#we change that one or later on we'll have issues assogning group to plot our bubble graph\n",
    "all_events.loc[all_events[\"Group Name\"]==\"Cork-Ireland-R-Users-Group\",\"Group Name\"]=\"Cork_Ireland_R_Users_Group\"\n",
    "for group in [\"DublinR\",\"Cork_Ireland_R_Users_Group\",\"pythonireland\",\"PyLadiesDublin\"]:\n",
    "    all_events.loc[(all_events[\"Rsvp Limit\"]== 0) & (all_events[\"Group Name\"] == group),\"Rsvp Limit\"]= math.ceil((all_events.groupby(\"Group Name\").mean())[\"Number of yes_rsvp\"][group])\n",
    "all_events[\"Number Of Events\"] =   Series(all_events.groupby([\"Group Name\",all_events[\"Date\"].map(lambda d: dateutil.parser.parse(d).year)]).cumcount() + 1)\n",
    "all_events[\"Date\"] = Series([dateutil.parser.parse(all_events[\"Date\"][i]).year for i in range(0,len(all_events))])\n"
   ]
  },
  {
   "cell_type": "markdown",
   "metadata": {
    "collapsed": true
   },
   "source": [
    "# Plotly Streaming Bubble chart\n",
    "## Initiate Stream object"
   ]
  },
  {
   "cell_type": "code",
   "execution_count": 3,
   "metadata": {
    "collapsed": true
   },
   "outputs": [],
   "source": [
    "#get plotly credentials\n",
    "stream_ids = tls.get_credentials_file()['stream_ids']"
   ]
  },
  {
   "cell_type": "code",
   "execution_count": 4,
   "metadata": {
    "collapsed": true
   },
   "outputs": [],
   "source": [
    "###make stream id object containing the stream id \n",
    "###link the stream id object to 'stream' key in the trace object of choice\n",
    "\n",
    "#Set up a stream id graph object\n",
    "#get the stream id from stream id list, only one needed here\n",
    "stream_id = stream_ids[0]\n",
    "#make a stream id object linking stream id to 'token' key\n",
    "stream = Stream(token=stream_id)\n"
   ]
  },
  {
   "cell_type": "markdown",
   "metadata": {
    "collapsed": true
   },
   "source": [
    "## Initialize trace"
   ]
  },
  {
   "cell_type": "code",
   "execution_count": 5,
   "metadata": {
    "collapsed": false
   },
   "outputs": [],
   "source": [
    "# Initialize trace of streaming plot by embedding the unique stream_id\n",
    "sizemode='area'\n",
    "trace1 = Scatter(\n",
    "    x=[],     # init. data\n",
    "    y=[],\n",
    "    text=[],  # init. hover text\n",
    "    mode='markers',\n",
    "    marker=Marker(  \n",
    "        color=[],# init. marker color\n",
    "        size=[],   # init. marker sizes\n",
    "        opacity=0.6,          # partly transparent markers\n",
    "        line=Line(width=0.0)  # remove marker borders\n",
    "    ),  \n",
    "    stream=stream  # (!) embed stream id, 1 per trace\n",
    ")\n",
    "\n",
    "data = Data([trace1])\n"
   ]
  },
  {
   "cell_type": "markdown",
   "metadata": {
    "collapsed": true
   },
   "source": [
    "## Layout and other functions"
   ]
  },
  {
   "cell_type": "code",
   "execution_count": 6,
   "metadata": {
    "collapsed": false
   },
   "outputs": [],
   "source": [
    "# (!) Set a reference for 'size' values (i.e. a Number_of_yes_rsvp-to-pixel scaling).\n",
    "\n",
    "\n",
    "def hover_text(X, year):\n",
    "     return 'Year: %d\\<br> Group: %s\\\n",
    "     <br> Number of yes_rsvp: %d' % (year,X['Group Name'], X['Number of yes_rsvp'])\n",
    "    \n",
    "colors = dict(DublinR='#0000cc',\n",
    "    Cork_Ireland_R_Users_Group='#1919ff',\n",
    "    pythonireland='#00cc00',\n",
    "    PyLadiesDublin='#00e500',\n",
    ")\n",
    "\n",
    "def make_anno(year):\n",
    "    anno_text = '<b>Year: {} </b><br>Data source: Meetup API'.format(year)\n",
    "    return dict(\n",
    "        text=anno_text,  # set annotation text\n",
    "        showarrow=False, # remove arrow \n",
    "        xref='paper',  # use paper coords\n",
    "        yref='paper',  #  for both coordinates\n",
    "        x=0.95,  # position's x-coord\n",
    "        y=0.05,  #   and y-coord\n",
    "        font=Font(size=14),    # increase font size (default is 12)\n",
    "        bgcolor='#FFFFFF',     # white background\n",
    "        borderpad=4            # space bt. border and text (in px)\n",
    ")\n",
    "\n",
    "\n",
    "# Set plot and axis titles\n",
    "title = \"Meetups in Ireland for Python and R\"\n",
    "x_title = \"Rsvp Limit\"\n",
    "y_title = \"Number of Events\"\n",
    "\n",
    "# Define a dictionary of axis style options\n",
    "axis_style = dict(\n",
    "    zeroline=False,       # remove thick zero line\n",
    "    gridcolor='#FFFFFF',  # white grid lines\n",
    "    ticks='outside',      # draw ticks outside axes \n",
    "    ticklen=8,            # tick length\n",
    "    tickwidth=1.5         #   and width\n",
    ")\n",
    "\n",
    "# Make layout object\n",
    "layout = Layout(\n",
    "    title=title,             # set plot title\n",
    "    xaxis=XAxis(\n",
    "        axis_style,      # add axis style dictionary\n",
    "        title=x_title,   # x-axis title\n",
    "        type = 'log',\n",
    "        exponentformat = 'power',\n",
    "        showexponent = 'all'\n",
    "        #range = [13,200]\n",
    "    ),\n",
    "    yaxis=YAxis(\n",
    "        axis_style,      # add axis style dictionary\n",
    "        title=y_title,   # y-axis title\n",
    "        range=[0,30]\n",
    "    ),\n",
    "    plot_bgcolor='#EFECEA',  # set plot color to grey\n",
    "    hovermode = 'closest',\n",
    "    showlegend = False,\n",
    "    autosize = True,\n",
    ")\n",
    "\n",
    "# Make a figure object\n",
    "fig = Figure(data=data, layout=layout)\n",
    "\n",
    "# (@) Send fig to Plotly, initialize streaming plot, open new tab\n",
    "unique_url = py.plot(fig, filename='kevo_bubbles')"
   ]
  },
  {
   "cell_type": "markdown",
   "metadata": {
    "collapsed": true
   },
   "source": [
    "## Open Stream"
   ]
  },
  {
   "cell_type": "code",
   "execution_count": null,
   "metadata": {
    "collapsed": true
   },
   "outputs": [],
   "source": [
    "#open the stream via the stream link object\n",
    "s = py.Stream(stream_id)\n",
    "s.open()"
   ]
  },
  {
   "cell_type": "markdown",
   "metadata": {
    "collapsed": true
   },
   "source": [
    "## Write to stream data"
   ]
  },
  {
   "cell_type": "code",
   "execution_count": null,
   "metadata": {
    "collapsed": false
   },
   "outputs": [],
   "source": [
    "#loop through all years in dataframe and plot every country one at a time \n",
    "#delay start of stream by 2 sec\n",
    "time.sleep(1)\n",
    "\n",
    "#extract years covered in our study. !!!SORTED!!!\n",
    "years = Series(all_events[\"Date\"][i] for i in range(0,len(all_events))).unique().tolist()\n",
    "years = sorted(years)\n",
    "\n",
    "while True: \n",
    "    for year in years: \n",
    "    #filter\n",
    "        i_year = (all_events[\"Date\"] == year)\n",
    "        all_events_year = all_events[i_year]\n",
    "        sizeref = all_events_year['Number of yes_rsvp'].max() / 1e2**1.75\n",
    "    #sort data frame by number of events in ascending order\n",
    "        all_events_year = all_events_year.sort_values(by=\"Number Of Events\",ascending=True)\n",
    "    #data dict to be streamed\n",
    "        sdata = dict()\n",
    "        slayout = dict(annotations=[make_anno(year)]) # layout dict. to be streamed\n",
    "    \n",
    "    #Iterate over the rows of a DataFrame as (index, Series) pairs.\n",
    "        for i_X, X in all_events_year.iterrows():\n",
    "            \n",
    "            sdata['x'] = X['Rsvp Limit']\n",
    "            sdata['y'] = X['Number Of Events']\n",
    "            sdata['marker'] = dict(\n",
    "                color=colors[X['Group Name']],  # color by group\n",
    "                size=np.sqrt(X['Number of yes_rsvp']/sizeref)  # size by yes_rsvp\n",
    "            )\n",
    "            sdata['text'] = hover_text(X, year) # hover text info\n",
    "        \n",
    "            #write data and layout dict to stream every 0.1 sec \n",
    "            s.write(sdata,layout=slayout)\n",
    "            time.sleep(0.01)\n",
    "\n",
    "            #when all groups plotted, hold for 1 sec and flush \n",
    "        if year != years[-1]: #except for the last year\n",
    "            time.sleep(0.3)\n",
    "            sdata = dict(\n",
    "                x=[],\n",
    "                y=[],\n",
    "                marker=dict(\n",
    "                    color=[],\n",
    "                    size=[]           \n",
    "                ),\n",
    "                text=[]\n",
    "            )\n",
    "            s.write(sdata,layout=slayout)\n",
    "            #clear data\n",
    "      \n",
    "\n",
    "    #close stream\n",
    "#s.close()   \n"
   ]
  }
 ],
 "metadata": {
  "kernelspec": {
   "display_name": "Python 2",
   "language": "python",
   "name": "python2"
  },
  "language_info": {
   "codemirror_mode": {
    "name": "ipython",
    "version": 2
   },
   "file_extension": ".py",
   "mimetype": "text/x-python",
   "name": "python",
   "nbconvert_exporter": "python",
   "pygments_lexer": "ipython2",
   "version": "2.7.10"
  }
 },
 "nbformat": 4,
 "nbformat_minor": 0
}
