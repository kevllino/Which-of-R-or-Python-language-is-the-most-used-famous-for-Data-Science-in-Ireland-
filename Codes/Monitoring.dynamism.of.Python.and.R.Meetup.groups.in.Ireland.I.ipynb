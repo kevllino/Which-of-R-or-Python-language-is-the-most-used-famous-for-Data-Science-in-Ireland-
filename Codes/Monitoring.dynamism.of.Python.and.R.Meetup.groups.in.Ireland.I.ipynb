{
 "cells": [
  {
   "cell_type": "markdown",
   "metadata": {},
   "source": [
    "# Monitoring dynamism of Python and R Meetup groups in Ireland I"
   ]
  },
  {
   "cell_type": "code",
   "execution_count": 54,
   "metadata": {
    "collapsed": false
   },
   "outputs": [],
   "source": [
    "#import libraries\n",
    "from pandas import Series, DataFrame\n",
    "import pandas as pd\n",
    "import math\n",
    "import json\n",
    "import urllib2\n",
    "import dateutil\n",
    "import time\n",
    "import plotly.plotly as py \n",
    "import plotly.tools as tls\n",
    "from plotly.graph_objs import * #Figure, Data, Layout "
   ]
  },
  {
   "cell_type": "markdown",
   "metadata": {},
   "source": [
    "# Data collection using the Meetup API "
   ]
  },
  {
   "cell_type": "code",
   "execution_count": 55,
   "metadata": {
    "collapsed": true
   },
   "outputs": [],
   "source": [
    "#load data from/using the meetup API\n",
    "eventsL = []\n",
    "for name in [\"DublinR\",\"Cork-Ireland-R-Users-Group\",\"pythonireland\",\"PyLadiesDublin\"]: \n",
    "        URL = \"https://api.meetup.com/2/events.json/?group_urlname=\" + name + \"&key=95c3a7577a477a7d105a70197b5755\"\n",
    "        group = json.load(urllib2.urlopen(URL))\n",
    "        eventsL.append(group)"
   ]
  },
  {
   "cell_type": "markdown",
   "metadata": {},
   "source": [
    "# Data Processing"
   ]
  },
  {
   "cell_type": "code",
   "execution_count": 56,
   "metadata": {
    "collapsed": false
   },
   "outputs": [
    {
     "data": {
      "text/html": [
       "<div>\n",
       "<table border=\"1\" class=\"dataframe\">\n",
       "  <thead>\n",
       "    <tr style=\"text-align: right;\">\n",
       "      <th></th>\n",
       "      <th>Event Name</th>\n",
       "      <th>Group Name</th>\n",
       "      <th>Date</th>\n",
       "      <th>Number of yes_rsvp</th>\n",
       "      <th>Rsvp Limit</th>\n",
       "      <th>Status</th>\n",
       "    </tr>\n",
       "  </thead>\n",
       "  <tbody>\n",
       "    <tr>\n",
       "      <th>0</th>\n",
       "      <td>Rated R, Rated G - Lightning Talks</td>\n",
       "      <td>DublinR</td>\n",
       "      <td>2015-12-09 18:30:00</td>\n",
       "      <td>23</td>\n",
       "      <td>0</td>\n",
       "      <td>upcoming</td>\n",
       "    </tr>\n",
       "    <tr>\n",
       "      <th>1</th>\n",
       "      <td>Meeting</td>\n",
       "      <td>DublinR</td>\n",
       "      <td>2011-11-17 18:30:00</td>\n",
       "      <td>10</td>\n",
       "      <td>0</td>\n",
       "      <td>past</td>\n",
       "    </tr>\n",
       "    <tr>\n",
       "      <th>2</th>\n",
       "      <td>Meeting</td>\n",
       "      <td>DublinR</td>\n",
       "      <td>2011-12-15 18:30:00</td>\n",
       "      <td>10</td>\n",
       "      <td>0</td>\n",
       "      <td>past</td>\n",
       "    </tr>\n",
       "    <tr>\n",
       "      <th>3</th>\n",
       "      <td>Meeting</td>\n",
       "      <td>DublinR</td>\n",
       "      <td>2012-01-19 18:30:00</td>\n",
       "      <td>8</td>\n",
       "      <td>0</td>\n",
       "      <td>past</td>\n",
       "    </tr>\n",
       "    <tr>\n",
       "      <th>4</th>\n",
       "      <td>Informal Meetup</td>\n",
       "      <td>DublinR</td>\n",
       "      <td>2012-03-29 19:00:00</td>\n",
       "      <td>8</td>\n",
       "      <td>0</td>\n",
       "      <td>past</td>\n",
       "    </tr>\n",
       "  </tbody>\n",
       "</table>\n",
       "</div>"
      ],
      "text/plain": [
       "                           Event Name Group Name                 Date  \\\n",
       "0  Rated R, Rated G - Lightning Talks    DublinR  2015-12-09 18:30:00   \n",
       "1                             Meeting    DublinR  2011-11-17 18:30:00   \n",
       "2                             Meeting    DublinR  2011-12-15 18:30:00   \n",
       "3                             Meeting    DublinR  2012-01-19 18:30:00   \n",
       "4                     Informal Meetup    DublinR  2012-03-29 19:00:00   \n",
       "\n",
       "   Number of yes_rsvp  Rsvp Limit    Status  \n",
       "0                  23           0  upcoming  \n",
       "1                  10           0      past  \n",
       "2                  10           0      past  \n",
       "3                   8           0      past  \n",
       "4                   8           0      past  "
      ]
     },
     "execution_count": 56,
     "metadata": {},
     "output_type": "execute_result"
    }
   ],
   "source": [
    "#function used to return a dataframe giving information about each events: fgroup_name, date, number of yes_rsvp\n",
    "def get_event_details(group_urlname,URL):\n",
    "    group = json.load(urllib2.urlopen(URL))\n",
    "    eventr= DataFrame()\n",
    "    LEN = len(group[\"results\"])\n",
    "    event_name = []\n",
    "    group_name = []\n",
    "    event_date_ms = []\n",
    "    event_yes_rsvp =[]\n",
    "    status =[]\n",
    "    \n",
    "    ##We don't take waiting_list into account as 14 values are different from zero\n",
    "    #waiting_list=[]\n",
    "    rsvp_limit = []\n",
    "    for i in range(0,LEN):\n",
    "        event_name.append(group[\"results\"][i][\"name\"])\n",
    "        group_name.append(group[\"results\"][i][\"group\"][\"urlname\"])\n",
    "        event_date_ms.append(group[\"results\"][i][\"time\"])\n",
    "        event_yes_rsvp.append(group[\"results\"][i][\"yes_rsvp_count\"])\n",
    "        #waiting_list.append(group[\"results\"][i][\"waitlist_count\"])\n",
    "        try:\n",
    "            rsvp_limit.append(group[\"results\"][i][\"rsvp_limit\"])\n",
    "        except KeyError: \n",
    "            rsvp_limit.append(0)\n",
    "        status.append(group[\"results\"][i][\"status\"])\n",
    "    #add the relevant column to the dataframe\n",
    "    event_date = [x / 1000 for x in event_date_ms]\n",
    "    events= DataFrame()\n",
    "    events[\"Event Name\"] = Series(event_name)\n",
    "    events[\"Group Name\"] = Series(group_name)\n",
    "    events[\"Date\"] = map(lambda date: time.strftime('%Y-%m-%d %H:%M:%S', time.localtime(date)),event_date)\n",
    "    events[\"Number of yes_rsvp\"] = Series(event_yes_rsvp)\n",
    "    #events[\"Waiting List\"] = Series(waiting_list)\n",
    "    events[\"Rsvp Limit\"] = Series(rsvp_limit)\n",
    "    events[\"Status\"] = Series(status)\n",
    "    return events\n",
    "\n",
    "def get_members(group_urlname,URL):\n",
    "    group = json.load(urllib2.urlopen(URL))\n",
    "    eventr= DataFrame()\n",
    "    LEN = len(group[\"results\"])\n",
    "    group_name = []\n",
    "    number_of_members =[]\n",
    "    group_name.append(group_urlname)\n",
    "    for i in range(0,LEN):\n",
    "        number_of_members.append(group[\"results\"][i][\"members\"])\n",
    "    #add the relevant column to the dataframe\n",
    "    events= DataFrame()\n",
    "    events[\"Event Name\"] = Series(group_name)\n",
    "    events[\"Number of members\"] = Series(number_of_members)\n",
    "    return events\n",
    "#get number of members for each group\n",
    "members = []\n",
    "for group in [\"DublinR\",\"Cork-Ireland-R-Users-Group\",\"pythonireland\",\"PyLadiesDublin\"]:\n",
    "    for url in [\"https://api.meetup.com/2/groups.json/?group_urlname=\"+ group +\"&key=95c3a7577a477a7d105a70197b5755\"]:\n",
    "        df = get_members(group, url)\n",
    "        members.append(df)\n",
    "\n",
    "\n",
    "#get past events thanks to &status=past\n",
    "list = []\n",
    "for group in [\"DublinR\",\"Cork-Ireland-R-Users-Group\",\"pythonireland\",\"PyLadiesDublin\"]:\n",
    "    for url in [\"https://api.meetup.com/2/events.json/?group_urlname=\"+ group + \"&key=95c3a7577a477a7d105a70197b5755\",\"https://api.meetup.com/2/events.json/?group_urlname=\" + group + \"&status=past&key=95c3a7577a477a7d105a70197b5755\"]:\n",
    "        df = get_event_details(group, url)\n",
    "        list.append(df)\n",
    "\n",
    "#concatenate all DataFrames into one\n",
    "all_events = pd.concat(list, ignore_index=True)\n",
    "members_number = pd.concat(members, ignore_index=True)\n",
    "all_events.head()\n"
   ]
  },
  {
   "cell_type": "markdown",
   "metadata": {},
   "source": [
    "# Stacked Bar Chart Of the number of members per group "
   ]
  },
  {
   "cell_type": "code",
   "execution_count": 57,
   "metadata": {
    "collapsed": false
   },
   "outputs": [
    {
     "data": {
      "text/html": [
       "<iframe id=\"igraph\" scrolling=\"no\" style=\"border:none;\"seamless=\"seamless\" src=\"https://plot.ly/~kevllino/311.embed\" height=\"525px\" width=\"100%\"></iframe>"
      ],
      "text/plain": [
       "<plotly.tools.PlotlyDisplay object>"
      ]
     },
     "execution_count": 57,
     "metadata": {},
     "output_type": "execute_result"
    }
   ],
   "source": [
    "import plotly.graph_objs as go\n",
    "\n",
    "y=[]\n",
    "x=[\"DublinR\",\"Cork-Ireland-R-Users-Group\",\"pythonireland\",\"PyLadiesDublin\"]\n",
    "for i in range(0,len(x)):\n",
    "    y.append(int((members_number.ix[i][\"Number of members\"])))\n",
    "\n",
    "trace1 = go.Bar(\n",
    "    x=[\"pythonireland\",\"DublinR\",\"PyLadiesDublin\",\"Cork-Ireland-R-Users-Group\"],\n",
    "    y=[int((members_number.ix[2][\"Number of members\"]).tolist()),int((members_number.ix[0][\"Number of members\"]).tolist()),int((members_number.ix[3][\"Number of members\"]).tolist()), int((members_number.ix[1][\"Number of members\"]).tolist())],\n",
    "    marker=dict(\n",
    "        color= ['#FFA300','#4099FF','#FFA300','#4099FF'],\n",
    "        line=dict(\n",
    "            color='black',\n",
    "            width=1.5,\n",
    "        )\n",
    "    ),\n",
    "    opacity=0.9,\n",
    " \n",
    ")\n",
    "\n",
    "data = [trace1]\n",
    "layout = go.Layout(\n",
    "    annotations=[\n",
    "        dict(\n",
    "            x=xi,\n",
    "            y=yi,\n",
    "            text=str(yi) + \" members\",\n",
    "            xanchor='center',\n",
    "            yanchor='bottom',\n",
    "            showarrow=False,\n",
    "        ) for xi, yi in zip(x, y)],\n",
    "    title='Number of members per group',\n",
    "     \n",
    ")\n",
    "fig = go.Figure(data=data, layout=layout)\n",
    "py.iplot(fig, filename='stacked-bar')"
   ]
  },
  {
   "cell_type": "markdown",
   "metadata": {},
   "source": [
    "# Data cleansing "
   ]
  },
  {
   "cell_type": "code",
   "execution_count": 58,
   "metadata": {
    "collapsed": false
   },
   "outputs": [],
   "source": [
    "#we change that one or later on we'll have issues assogning group to plot our bubble graph\n",
    "all_events.loc[all_events[\"Group Name\"]==\"Cork-Ireland-R-Users-Group\",\"Group Name\"]=\"Cork_Ireland_R_Users_Group\"\n",
    "for group in [\"DublinR\",\"Cork_Ireland_R_Users_Group\",\"pythonireland\",\"PyLadiesDublin\"]:\n",
    "    all_events.loc[(all_events[\"Rsvp Limit\"]== 0) & (all_events[\"Group Name\"] == group),\"Rsvp Limit\"]= math.ceil((all_events.groupby(\"Group Name\").mean())[\"Number of yes_rsvp\"][group])\n",
    "\n",
    "    \n",
    "#some cleaning of the data to match the right cell formats\n",
    "all_events[\"Number Of Events\"] =   Series(all_events.groupby([\"Group Name\",all_events[\"Date\"].map(lambda d: dateutil.parser.parse(d).year)]).cumcount() + 1)\n",
    "all_events[\"Date\"] = Series([dateutil.parser.parse(all_events[\"Date\"][i]).year for i in range(0,len(all_events))])\n"
   ]
  },
  {
   "cell_type": "code",
   "execution_count": 97,
   "metadata": {
    "collapsed": false
   },
   "outputs": [
    {
     "data": {
      "text/plain": [
       "Group Name                  Date\n",
       "Cork_Ireland_R_Users_Group  2015     3\n",
       "DublinR                     2011     2\n",
       "                            2012    20\n",
       "                            2013    42\n",
       "                            2014    32\n",
       "                            2015    26\n",
       "PyLadiesDublin              2013     2\n",
       "                            2014    12\n",
       "                            2015    12\n",
       "pythonireland               2013    12\n",
       "                            2014    14\n",
       "                            2015    14\n",
       "                            2016    11\n",
       "Name: Number Of Events, dtype: int64"
      ]
     },
     "execution_count": 97,
     "metadata": {},
     "output_type": "execute_result"
    }
   ],
   "source": [
    "#Computing the number of events for each group\n",
    "events_per_group = all_events.groupby(['Group Name',Series.sort_values(all_events['Date'])], sort=True)[\"Number Of Events\"].max()\n",
    "events_per_group"
   ]
  },
  {
   "cell_type": "code",
   "execution_count": 93,
   "metadata": {
    "collapsed": false
   },
   "outputs": [],
   "source": [
    "R_events = events_per_group[\"DublinR\"].sum() + events_per_group[\"Cork_Ireland_R_Users_Group\"].sum()\n",
    "Python_events = events_per_group[\"pythonireland\"].sum() + events_per_group[\"PyLadiesDublin\"].sum()"
   ]
  },
  {
   "cell_type": "code",
   "execution_count": 95,
   "metadata": {
    "collapsed": false
   },
   "outputs": [
    {
     "name": "stdout",
     "output_type": "stream",
     "text": [
      "125 were organised for the R language in Ireland from 2011 to 2016.\n"
     ]
    }
   ],
   "source": [
    "print str(R_events) + \" were organised for the R language in Ireland from 2011 to 2016.\""
   ]
  },
  {
   "cell_type": "code",
   "execution_count": 98,
   "metadata": {
    "collapsed": false
   },
   "outputs": [
    {
     "name": "stdout",
     "output_type": "stream",
     "text": [
      "77 were organised for the Python language in Ireland from 2013 to 2016.\n"
     ]
    }
   ],
   "source": [
    "print str(Python_events) + \" were organised for the Python language in Ireland from 2013 to 2016.\""
   ]
  },
  {
   "cell_type": "markdown",
   "metadata": {
    "collapsed": true
   },
   "source": [
    "# Data Vizualisation with Plotly API "
   ]
  },
  {
   "cell_type": "code",
   "execution_count": 111,
   "metadata": {
    "collapsed": false
   },
   "outputs": [],
   "source": [
    "#plot a graph of meetups in 2015\n",
    "the_year = 2015\n",
    "i_year = [all_events[\"Date\"][i] == the_year for i in range(0,len(all_events))]\n",
    "all_events_year = all_events[i_year]\n",
    "\n",
    "#set a color for each group\n",
    "colors = dict(DublinR='#0000cc',\n",
    "    Cork_Ireland_R_Users_Group='#1919ff',\n",
    "    pythonireland='#00cc00',\n",
    "    PyLadiesDublin='#00e500',\n",
    ")\n",
    "\n",
    "sizemode = 'area'\n",
    "#sizeref = all_events_year['Number of yes_rsvp'].max()\n",
    "\n",
    "\n",
    "# (!) Set a reference for 'size' values (i.e. a population-to-pixel scaling).\n",
    "#     Here the max bubble area will be on the order of 100 pixels\n",
    "sizeref = all_events_year['Number of yes_rsvp'].max() / 1e2**1.75\n",
    "\n",
    "# Define a trace-generating function (returns a Scatter object)\n",
    "def make_trace(X, group, sizes, color):\n",
    "    return Scatter(\n",
    "        x=X['Rsvp Limit'],  # Rsvp Limit on the x-xaxis\n",
    "        y=X['Number Of Events'],    # Number of Events on th y-axis\n",
    "        name=group,    # label continent names on hover\n",
    "        mode='markers',    # (!) point markers only on this plot\n",
    "        marker= Marker(\n",
    "            color=color,          # marker color\n",
    "            size=sizes,           # (!) marker sizes (sizes is a list)\n",
    "            sizeref=sizeref,      # link sizeref\n",
    "            sizemode=sizemode,    # link sizemode\n",
    "            opacity=0.6,          # (!) partly transparent markers\n",
    "            line=Line(width=0.0)  # remove marker borders\n",
    "        )\n",
    "    )"
   ]
  },
  {
   "cell_type": "code",
   "execution_count": 112,
   "metadata": {
    "collapsed": false,
    "scrolled": false
   },
   "outputs": [
    {
     "data": {
      "text/html": [
       "<iframe id=\"igraph\" scrolling=\"no\" style=\"border:none;\"seamless=\"seamless\" src=\"https://plot.ly/~kevllino/324.embed\" height=\"525px\" width=\"100%\"></iframe>"
      ],
      "text/plain": [
       "<plotly.tools.PlotlyDisplay object>"
      ]
     },
     "execution_count": 112,
     "metadata": {},
     "output_type": "execute_result"
    }
   ],
   "source": [
    "data = Data()\n",
    "\n",
    "for group, X in all_events_year.groupby('Group Name'):\n",
    "    sizes = X['Number of yes_rsvp']\n",
    "    color = colors[group]\n",
    "    data.append(make_trace(X,group, sizes,color))\n",
    "    \n",
    "# Set plot and axis titles\n",
    "title = \"Meetups in Ireland for Python and R\".format(the_year)\n",
    "x_title = \"Rsvp Limit\"\n",
    "y_title = \"Number of Events\"\n",
    "\n",
    "# Define a dictionary of axis style options\n",
    "axis_style = dict(\n",
    "    zeroline=False,       # remove thick zero line\n",
    "    gridcolor='#FFFFFF',  # white grid lines\n",
    "    ticks='outside',      # draw ticks outside axes \n",
    "    ticklen=8,            # tick length\n",
    "    tickwidth=1.5         #   and width\n",
    ")\n",
    "\n",
    "# Make layout object\n",
    "layout = Layout(\n",
    "    title=title,             # set plot title\n",
    "    plot_bgcolor='#EFECEA',  # set plot color to grey\n",
    "    xaxis=XAxis(\n",
    "        axis_style,      # add axis style dictionary\n",
    "        title=x_title,   # x-axis title\n",
    "    ),\n",
    "    yaxis=YAxis(\n",
    "        axis_style,      # add axis style dictionary\n",
    "        title=y_title,   # y-axis title\n",
    "    )\n",
    ")\n",
    "\n",
    "fig = Figure(data=data, layout=layout)\n",
    "\n",
    "#log axis scales better => more visible results, difference between groups\n",
    "fig['layout']['xaxis'].update(\n",
    "type = 'log',\n",
    "    exponentformat = 'power',\n",
    "    showexponent = 'all'\n",
    ")\n",
    "#update layout object\n",
    "fig['layout'].update(\n",
    "    hovermode = 'closest',\n",
    "    showlegend = True,\n",
    "    autosize = True,\n",
    ")\n",
    "\n",
    "#add hover text information to each trace point \n",
    "def hover_text(X):\n",
    "     return 'Year: %d <br> Group: %s\\\n",
    "     <br> Number of yes_rsvp: %d' % (X[\"Date\"],X['Group Name'], X['Number of yes_rsvp'])\n",
    "i = 0 \n",
    "for group, X in all_events_year.groupby(\"Group Name\"):\n",
    "    text = X.apply(hover_text, axis = 1).tolist()\n",
    "    fig['data'][i].update(text=text)\n",
    "    i += 1    \n",
    "\n",
    "\n",
    "py.iplot(fig)"
   ]
  },
  {
   "cell_type": "code",
   "execution_count": 118,
   "metadata": {
    "collapsed": false
   },
   "outputs": [
    {
     "data": {
      "text/html": [
       "<iframe id=\"igraph\" scrolling=\"no\" style=\"border:none;\"seamless=\"seamless\" src=\"https://plot.ly/~kevllino/85.embed\" height=\"525\" width=\"100%\"></iframe>"
      ],
      "text/plain": [
       "<plotly.tools.PlotlyDisplay object>"
      ]
     },
     "execution_count": 118,
     "metadata": {},
     "output_type": "execute_result"
    }
   ],
   "source": [
    "tls.embed(\"kevllino\",\"85\")"
   ]
  }
 ],
 "metadata": {
  "kernelspec": {
   "display_name": "Python 2",
   "language": "python",
   "name": "python2"
  },
  "language_info": {
   "codemirror_mode": {
    "name": "ipython",
    "version": 2
   },
   "file_extension": ".py",
   "mimetype": "text/x-python",
   "name": "python",
   "nbconvert_exporter": "python",
   "pygments_lexer": "ipython2",
   "version": "2.7.10"
  }
 },
 "nbformat": 4,
 "nbformat_minor": 0
}
