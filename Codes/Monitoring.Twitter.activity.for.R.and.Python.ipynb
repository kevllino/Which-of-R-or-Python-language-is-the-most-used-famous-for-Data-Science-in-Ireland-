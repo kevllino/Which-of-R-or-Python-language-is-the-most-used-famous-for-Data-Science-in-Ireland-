{
 "cells": [
  {
   "cell_type": "markdown",
   "metadata": {},
   "source": [
    "# Monitoring Twitter activity for R and Python  \n"
   ]
  },
  {
   "cell_type": "code",
   "execution_count": 239,
   "metadata": {
    "collapsed": true
   },
   "outputs": [],
   "source": [
    "#import all Python librearies which will be used\n",
    "from tweepy.streaming import StreamListener\n",
    "from tweepy import OAuthHandler \n",
    "from tweepy import Stream\n",
    "import sys\n",
    "import json \n",
    "import pandas as pd \n",
    "from pandas import Series, DataFrame\n",
    "import re\n",
    "import plotly.plotly as py\n",
    "import plotly.graph_objs as go\n",
    "import numpy as np\n",
    "import dateutil\n",
    "from datetime import datetime \n",
    "import matplotlib.pyplot as plt\n",
    "%matplotlib inline\n",
    "import time\n",
    "import seaborn as sns\n",
    "from matplotlib import gridspec"
   ]
  },
  {
   "cell_type": "markdown",
   "metadata": {},
   "source": [
    "# Data collection with Tweepy"
   ]
  },
  {
   "cell_type": "code",
   "execution_count": null,
   "metadata": {
    "collapsed": true
   },
   "outputs": [],
   "source": [
    "#redirection of output to the \"tweetos.txt\" file \n",
    "sys.stdout = open('tweetos.txt','w')\n",
    "\n",
    "#var containing my credentials to access Twitter API\n",
    "access_token = \"350901312-QPAW931qOxfqzzZ7g6Na1rI7KVSNhwkJUEexmZLB\"\n",
    "access_token_secret = \"UWPd6Untbl80tHD0ciPoi60RgsyfRd3nNiRDYE7FrR01x\"\n",
    "consumer_key =\"KZ0Lxz7HZKXIbIYOYUUkjU5LL\"\n",
    "consumer_secret = \"dHpePcR6dShY0XuNfoHDeM12fA7jMNUodD0QPAICbKj8i9JDIR\"\n",
    "\n",
    "#listener printing received tweets to stdout\n",
    "class StdOutListener(StreamListener):\n",
    "    def on_data(self,data):\n",
    "        print data \n",
    "        return True\n",
    "                    \n",
    "    def on_error(self,status):\n",
    "        print status\n",
    "        \n",
    "if __name__ == '__main__':\n",
    "    #Twitter authentification and connection to the Twitter Streaming API \n",
    "    l = StdOutListener()\n",
    "    auth = OAuthHandler(consumer_key, consumer_secret)\n",
    "    auth.set_access_token(access_token, access_token_secret)\n",
    "    \n",
    "    stream = Stream(auth,l)    \n",
    "    #filtering Twitter Streams with keyword 'python' and relevant keyword for R \n",
    "    stream.filter(track=['python','#rstats','@RStatsJobs','@Rstats4Econ','rlang'])\n"
   ]
  },
  {
   "cell_type": "markdown",
   "metadata": {},
   "source": [
    "# Data Processing"
   ]
  },
  {
   "cell_type": "code",
   "execution_count": null,
   "metadata": {
    "collapsed": false
   },
   "outputs": [],
   "source": [
    "#read our tweets \n",
    "tweets_path = \"./tweetos.txt\"\n",
    "tweets = []\n",
    "tweets_file = open(tweets_path,'r')\n",
    "for tweet_line in tweets_file: \n",
    "    try: \n",
    "        tweet = json.loads(tweet_line)\n",
    "        tweets.append(tweet)\n",
    "    except: \n",
    "        continue\n",
    "        \n",
    "#structure data tweets as panda dataframes\n",
    "tweetsDF = DataFrame()\n",
    "\n",
    "#adding columns about text, lang and country \n",
    "tweetsDF['text'] = map(lambda tweet:tweet[\"text\"] if 'text' in tweet else 'None', tweets)\n",
    "tweetsDF['lang'] = map(lambda tweet: tweet['lang'] if 'lang' in tweet else 'None', tweets)\n",
    "tweetsDF['country'] = map(lambda tweet: tweet['user']['location'] if 'user' in tweet else 'None', tweets)\n",
    "tweetsDF[\"created_at\"] = map(lambda tweet: tweet[\"created_at\"] if \"created_at\" in tweet else 'None', tweets)\n",
    "\n",
    "    "
   ]
  },
  {
   "cell_type": "markdown",
   "metadata": {},
   "source": [
    "# Data Cleansing - Filtering the tweets"
   ]
  },
  {
   "cell_type": "code",
   "execution_count": 2,
   "metadata": {
    "collapsed": false
   },
   "outputs": [
    {
     "data": {
      "text/html": [
       "<div>\n",
       "<table border=\"1\" class=\"dataframe\">\n",
       "  <thead>\n",
       "    <tr style=\"text-align: right;\">\n",
       "      <th></th>\n",
       "      <th>text</th>\n",
       "      <th>lang</th>\n",
       "      <th>country</th>\n",
       "      <th>created_at</th>\n",
       "      <th>Python</th>\n",
       "      <th>R</th>\n",
       "      <th>Programming related</th>\n",
       "    </tr>\n",
       "  </thead>\n",
       "  <tbody>\n",
       "    <tr>\n",
       "      <th>0</th>\n",
       "      <td>RT @johnhubner: #Python Programmer is out! htt...</td>\n",
       "      <td>en</td>\n",
       "      <td>Brighton &amp; Hove, UK</td>\n",
       "      <td>Sun Nov 08 16:05:17 +0000 2015</td>\n",
       "      <td>True</td>\n",
       "      <td>False</td>\n",
       "      <td>True</td>\n",
       "    </tr>\n",
       "    <tr>\n",
       "      <th>1</th>\n",
       "      <td>RT aidotech: RT kdnuggets: 500 #DeepLearning P...</td>\n",
       "      <td>en</td>\n",
       "      <td>phoenix</td>\n",
       "      <td>Sun Nov 08 16:05:17 +0000 2015</td>\n",
       "      <td>True</td>\n",
       "      <td>False</td>\n",
       "      <td>True</td>\n",
       "    </tr>\n",
       "    <tr>\n",
       "      <th>2</th>\n",
       "      <td>RT kdnuggets: 500 #DeepLearning Papers, Graphv...</td>\n",
       "      <td>en</td>\n",
       "      <td>phoenix</td>\n",
       "      <td>Sun Nov 08 16:05:19 +0000 2015</td>\n",
       "      <td>True</td>\n",
       "      <td>False</td>\n",
       "      <td>True</td>\n",
       "    </tr>\n",
       "    <tr>\n",
       "      <th>3</th>\n",
       "      <td>RT @dataiku: R vs Python for Data Science: The...</td>\n",
       "      <td>en</td>\n",
       "      <td>San Francisco</td>\n",
       "      <td>Sun Nov 08 16:05:23 +0000 2015</td>\n",
       "      <td>True</td>\n",
       "      <td>True</td>\n",
       "      <td>True</td>\n",
       "    </tr>\n",
       "    <tr>\n",
       "      <th>4</th>\n",
       "      <td>Harmony Safari Park Python Encounter https://t...</td>\n",
       "      <td>et</td>\n",
       "      <td>San Diego, CA</td>\n",
       "      <td>Sun Nov 08 16:05:25 +0000 2015</td>\n",
       "      <td>True</td>\n",
       "      <td>False</td>\n",
       "      <td>False</td>\n",
       "    </tr>\n",
       "  </tbody>\n",
       "</table>\n",
       "</div>"
      ],
      "text/plain": [
       "                                                text lang  \\\n",
       "0  RT @johnhubner: #Python Programmer is out! htt...   en   \n",
       "1  RT aidotech: RT kdnuggets: 500 #DeepLearning P...   en   \n",
       "2  RT kdnuggets: 500 #DeepLearning Papers, Graphv...   en   \n",
       "3  RT @dataiku: R vs Python for Data Science: The...   en   \n",
       "4  Harmony Safari Park Python Encounter https://t...   et   \n",
       "\n",
       "               country                      created_at Python      R  \\\n",
       "0  Brighton & Hove, UK  Sun Nov 08 16:05:17 +0000 2015   True  False   \n",
       "1             phoenix   Sun Nov 08 16:05:17 +0000 2015   True  False   \n",
       "2             phoenix   Sun Nov 08 16:05:19 +0000 2015   True  False   \n",
       "3        San Francisco  Sun Nov 08 16:05:23 +0000 2015   True   True   \n",
       "4        San Diego, CA  Sun Nov 08 16:05:25 +0000 2015   True  False   \n",
       "\n",
       "  Programming related  \n",
       "0                True  \n",
       "1                True  \n",
       "2                True  \n",
       "3                True  \n",
       "4               False  "
      ]
     },
     "execution_count": 2,
     "metadata": {},
     "output_type": "execute_result"
    }
   ],
   "source": [
    "#check if a word (e.g., python) is in our tweet\n",
    "##or browse the whole list, if the word is found return true otherwise false\n",
    "def word_in_text(words,text):\n",
    "    for word in words: \n",
    "        word = word.lower()\n",
    "        text = text.lower()\n",
    "        if re.search(word,text):\n",
    "            return True \n",
    "    return False\n",
    "    \n",
    "#add column \n",
    "tweetsDF['Python'] = tweetsDF['text'].apply(lambda tweet: word_in_text(['python'],tweet))\n",
    "tweetsDF['R'] = tweetsDF['text'].apply(lambda tweet: word_in_text([r'R vs(.*)','#rstats','@RStatsJobs','@Rstats4Econ','rlang'],tweet))\n",
    "\n",
    "#filter for relevant tweets, because \"Monthy Python\", \"Gator eats python\", ...\n",
    "#we decide to search for words like \"programming', apps', 'tutorial', ...\n",
    "tweetsDF['Programming related'] = tweetsDF['text'].apply(lambda tweet: word_in_text(['kdnuggets',r'programm(.*)',r'tutorial(.*)',r'app(.*)'],tweet))\n",
    "\n",
    "tweetsDF.head()"
   ]
  },
  {
   "cell_type": "code",
   "execution_count": 3,
   "metadata": {
    "collapsed": true
   },
   "outputs": [],
   "source": [
    "#filtering tweets only about Python programming language\n",
    "tweetsDF['PythonProg'] = tweetsDF['Python'] & tweetsDF['Programming related'] "
   ]
  },
  {
   "cell_type": "markdown",
   "metadata": {},
   "source": [
    "# Bar chart of number of categorised tweets "
   ]
  },
  {
   "cell_type": "code",
   "execution_count": 143,
   "metadata": {
    "collapsed": false
   },
   "outputs": [],
   "source": [
    "#count of tweets about R, python, ...\n",
    "counts_list = []\n",
    "counts_list.append(len(tweetsDF))\n",
    "counts_list.append(tweetsDF['PythonProg'].value_counts()[True])\n",
    "counts_list.append(tweetsDF['R'].value_counts()[True])"
   ]
  },
  {
   "cell_type": "code",
   "execution_count": 268,
   "metadata": {
    "collapsed": false
   },
   "outputs": [
    {
     "data": {
      "text/html": [
       "<iframe id=\"igraph\" scrolling=\"no\" style=\"border:none;\"seamless=\"seamless\" src=\"https://plot.ly/~kevllino/295.embed\" height=\"525px\" width=\"100%\"></iframe>"
      ],
      "text/plain": [
       "<plotly.tools.PlotlyDisplay object>"
      ]
     },
     "execution_count": 268,
     "metadata": {},
     "output_type": "execute_result"
    }
   ],
   "source": [
    "x=['Unrelated','Python','R']\n",
    "y=counts_list\n",
    "trace = go.Bar(\n",
    "    x=x,\n",
    "    y=y,\n",
    "   \n",
    "    marker=dict(\n",
    "        color= ['grey','#FFA300','#4099FF'],\n",
    "        line=dict(\n",
    "            color='black',\n",
    "            width=1.5,\n",
    "        )\n",
    "    ),\n",
    "    opacity=0.9,\n",
    "    text = [\"None\", pythondb, Rdb]\n",
    ")\n",
    "data = [trace]\n",
    "layout = go.Layout(\n",
    "      annotations=[\n",
    "        dict(\n",
    "            x=xi,\n",
    "            y=yi,\n",
    "            text=str(yi) + \" tweets\",\n",
    "            xanchor='center',\n",
    "            yanchor='bottom',\n",
    "            showarrow=False,\n",
    "        ) for xi, yi in zip(x, y)],\n",
    "\n",
    "    title='Number of tweets per language from 8/11/2015 to 10/11/2015',\n",
    ")\n",
    "fig = go.Figure(data=data, layout=layout)\n",
    "py.iplot(fig, filename='text-hover-bar')\n",
    "\n"
   ]
  },
  {
   "cell_type": "code",
   "execution_count": 4,
   "metadata": {
    "collapsed": true
   },
   "outputs": [],
   "source": [
    "#removing Python and Programming related columns as we now have the relevant insight to compare R against Python\n",
    "del tweetsDF['Python']\n",
    "del tweetsDF['Programming related']"
   ]
  },
  {
   "cell_type": "code",
   "execution_count": 5,
   "metadata": {
    "collapsed": false
   },
   "outputs": [
    {
     "data": {
      "text/html": [
       "<div>\n",
       "<table border=\"1\" class=\"dataframe\">\n",
       "  <thead>\n",
       "    <tr style=\"text-align: right;\">\n",
       "      <th></th>\n",
       "      <th>text</th>\n",
       "      <th>lang</th>\n",
       "      <th>country</th>\n",
       "      <th>created_at</th>\n",
       "      <th>R</th>\n",
       "      <th>PythonProg</th>\n",
       "    </tr>\n",
       "  </thead>\n",
       "  <tbody>\n",
       "    <tr>\n",
       "      <th>0</th>\n",
       "      <td>RT @johnhubner: #Python Programmer is out! htt...</td>\n",
       "      <td>en</td>\n",
       "      <td>Brighton &amp; Hove, UK</td>\n",
       "      <td>Sun Nov 08 16:05:17 +0000 2015</td>\n",
       "      <td>False</td>\n",
       "      <td>True</td>\n",
       "    </tr>\n",
       "    <tr>\n",
       "      <th>1</th>\n",
       "      <td>RT aidotech: RT kdnuggets: 500 #DeepLearning P...</td>\n",
       "      <td>en</td>\n",
       "      <td>phoenix</td>\n",
       "      <td>Sun Nov 08 16:05:17 +0000 2015</td>\n",
       "      <td>False</td>\n",
       "      <td>True</td>\n",
       "    </tr>\n",
       "    <tr>\n",
       "      <th>2</th>\n",
       "      <td>RT kdnuggets: 500 #DeepLearning Papers, Graphv...</td>\n",
       "      <td>en</td>\n",
       "      <td>phoenix</td>\n",
       "      <td>Sun Nov 08 16:05:19 +0000 2015</td>\n",
       "      <td>False</td>\n",
       "      <td>True</td>\n",
       "    </tr>\n",
       "    <tr>\n",
       "      <th>3</th>\n",
       "      <td>RT @dataiku: R vs Python for Data Science: The...</td>\n",
       "      <td>en</td>\n",
       "      <td>San Francisco</td>\n",
       "      <td>Sun Nov 08 16:05:23 +0000 2015</td>\n",
       "      <td>True</td>\n",
       "      <td>True</td>\n",
       "    </tr>\n",
       "    <tr>\n",
       "      <th>4</th>\n",
       "      <td>Harmony Safari Park Python Encounter https://t...</td>\n",
       "      <td>et</td>\n",
       "      <td>San Diego, CA</td>\n",
       "      <td>Sun Nov 08 16:05:25 +0000 2015</td>\n",
       "      <td>False</td>\n",
       "      <td>False</td>\n",
       "    </tr>\n",
       "  </tbody>\n",
       "</table>\n",
       "</div>"
      ],
      "text/plain": [
       "                                                text lang  \\\n",
       "0  RT @johnhubner: #Python Programmer is out! htt...   en   \n",
       "1  RT aidotech: RT kdnuggets: 500 #DeepLearning P...   en   \n",
       "2  RT kdnuggets: 500 #DeepLearning Papers, Graphv...   en   \n",
       "3  RT @dataiku: R vs Python for Data Science: The...   en   \n",
       "4  Harmony Safari Park Python Encounter https://t...   et   \n",
       "\n",
       "               country                      created_at      R PythonProg  \n",
       "0  Brighton & Hove, UK  Sun Nov 08 16:05:17 +0000 2015  False       True  \n",
       "1             phoenix   Sun Nov 08 16:05:17 +0000 2015  False       True  \n",
       "2             phoenix   Sun Nov 08 16:05:19 +0000 2015  False       True  \n",
       "3        San Francisco  Sun Nov 08 16:05:23 +0000 2015   True       True  \n",
       "4        San Diego, CA  Sun Nov 08 16:05:25 +0000 2015  False      False  "
      ]
     },
     "execution_count": 5,
     "metadata": {},
     "output_type": "execute_result"
    }
   ],
   "source": [
    "tweetsDF.head()"
   ]
  },
  {
   "cell_type": "markdown",
   "metadata": {},
   "source": [
    "# Data import and processing of our files from Refine"
   ]
  },
  {
   "cell_type": "code",
   "execution_count": 6,
   "metadata": {
    "collapsed": false
   },
   "outputs": [],
   "source": [
    "#function to read and parse our excel files from dbpedia \n",
    "def parseDBpedia(excelFile,excelSheet):\n",
    "    #import xlss from the DBpedia study\n",
    "    #read file and parse sheet\n",
    "    Rdbxlsx = pd.ExcelFile(excelFile)\n",
    "    Rdb = Rdbxlsx.parse(excelSheet)\n",
    "    #combine all paradigms cells into one\n",
    "    lista =[]\n",
    "    for word in range(1,len(Rdb)):\n",
    "        lista.append(Rdb[\"para\"][word])\n",
    "    paradigm = \" | \".join(lista)\n",
    "    Rdb[\"para\"] = paradigm\n",
    "    #get read of duplicates\n",
    "    del Rdb[\"lang\"]\n",
    "    RDf = Rdb.ix[[0]]\n",
    "    #allocate relevant names to columns\n",
    "    RDf.columns = ['Language', 'Paradigms','OS','License']\n",
    "    return RDf\n",
    "\n",
    "#get our dataframes and concatenate them\n",
    "RDF = parseDBpedia(\"sparql-csv (1).xls\",\"sparql csv\")\n",
    "pythonDF = parseDBpedia(\"sparql-csv.xls\",\"sparql csv\")\n",
    "RDF[\"Language\"][0] = 'R'\n",
    "DF = pd.concat([pythonDF,RDF])\n",
    "DF = DF.reset_index(drop=True)"
   ]
  },
  {
   "cell_type": "code",
   "execution_count": 7,
   "metadata": {
    "collapsed": true
   },
   "outputs": [],
   "source": [
    "#merge DF and \n",
    "tweetsDF.loc[ tweetsDF.R==True,'R'] = 'R'\n",
    "tweetsDF.loc[ tweetsDF.PythonProg==True,'PythonProg'] = 'Python'"
   ]
  },
  {
   "cell_type": "code",
   "execution_count": 141,
   "metadata": {
    "collapsed": true
   },
   "outputs": [],
   "source": [
    "pythondb = \"Insights for Python: <br>\" + \"Paradigms: \" + DF.ix[0][\"Paradigms\"] + \"<br>OS: \" + DF.ix[0][\"OS\"] + \"<br>License: \"+DF.ix[0][\"License\"]\n",
    "Rdb = \"Insights for R: <br>\" + \"Paradigms: \" + DF.ix[1][\"Paradigms\"] + \"<br>OS: \" + DF.ix[1][\"OS\"] + \"<br>License: \"+DF.ix[1][\"License\"]"
   ]
  },
  {
   "cell_type": "code",
   "execution_count": 133,
   "metadata": {
    "collapsed": false
   },
   "outputs": [
    {
     "data": {
      "text/html": [
       "<div>\n",
       "<table border=\"1\" class=\"dataframe\">\n",
       "  <thead>\n",
       "    <tr style=\"text-align: right;\">\n",
       "      <th></th>\n",
       "      <th>Language</th>\n",
       "      <th>Paradigms</th>\n",
       "      <th>OS</th>\n",
       "      <th>License</th>\n",
       "    </tr>\n",
       "  </thead>\n",
       "  <tbody>\n",
       "    <tr>\n",
       "      <th>Python</th>\n",
       "      <td>Python</td>\n",
       "      <td>Functional_programming | Procedural_programmin...</td>\n",
       "      <td>Cross-platform</td>\n",
       "      <td>Python_Software_Foundation_License</td>\n",
       "    </tr>\n",
       "    <tr>\n",
       "      <th>R</th>\n",
       "      <td>R</td>\n",
       "      <td>Functional_programming | Procedural_programmin...</td>\n",
       "      <td>Cross-platform</td>\n",
       "      <td>GNU_General_Public_License</td>\n",
       "    </tr>\n",
       "  </tbody>\n",
       "</table>\n",
       "</div>"
      ],
      "text/plain": [
       "       Language                                          Paradigms  \\\n",
       "Python   Python  Functional_programming | Procedural_programmin...   \n",
       "R             R  Functional_programming | Procedural_programmin...   \n",
       "\n",
       "                    OS                             License  \n",
       "Python  Cross-platform  Python_Software_Foundation_License  \n",
       "R       Cross-platform          GNU_General_Public_License  "
      ]
     },
     "execution_count": 133,
     "metadata": {},
     "output_type": "execute_result"
    }
   ],
   "source": [
    "DF"
   ]
  },
  {
   "cell_type": "code",
   "execution_count": 8,
   "metadata": {
    "collapsed": false
   },
   "outputs": [],
   "source": [
    "df = tweetsDF.loc[(tweetsDF.R != False) & (tweetsDF.PythonProg != False),:]"
   ]
  },
  {
   "cell_type": "code",
   "execution_count": 9,
   "metadata": {
    "collapsed": false
   },
   "outputs": [],
   "source": [
    "#create new column Programming Language\n",
    "ser1=tweetsDF[\"R\"]\n",
    "ser2=tweetsDF[\"PythonProg\"]\n",
    "langage = Series(np.where(ser1==False,ser2,ser1),index = ser1.index)\n",
    "tweetsDF[\"Language\"] = langage\n"
   ]
  },
  {
   "cell_type": "code",
   "execution_count": 10,
   "metadata": {
    "collapsed": true
   },
   "outputs": [],
   "source": [
    "del tweetsDF[\"R\"]\n",
    "del tweetsDF[\"PythonProg\"]"
   ]
  },
  {
   "cell_type": "code",
   "execution_count": 11,
   "metadata": {
    "collapsed": true
   },
   "outputs": [],
   "source": [
    "#rename indexes\n",
    "DF.rename(index={0:'Python',1:'R'},inplace=True)"
   ]
  },
  {
   "cell_type": "code",
   "execution_count": 53,
   "metadata": {
    "collapsed": false
   },
   "outputs": [
    {
     "data": {
      "text/html": [
       "<div>\n",
       "<table border=\"1\" class=\"dataframe\">\n",
       "  <thead>\n",
       "    <tr style=\"text-align: right;\">\n",
       "      <th></th>\n",
       "      <th>Language</th>\n",
       "      <th>text</th>\n",
       "      <th>lang</th>\n",
       "      <th>country</th>\n",
       "      <th>created_at</th>\n",
       "      <th>Paradigms</th>\n",
       "      <th>OS</th>\n",
       "      <th>License</th>\n",
       "    </tr>\n",
       "  </thead>\n",
       "  <tbody>\n",
       "    <tr>\n",
       "      <th>0</th>\n",
       "      <td>Python</td>\n",
       "      <td>RT @johnhubner: #Python Programmer is out! htt...</td>\n",
       "      <td>en</td>\n",
       "      <td>Brighton &amp; Hove, UK</td>\n",
       "      <td>Sun Nov 08 16:05:17 +0000 2015</td>\n",
       "      <td>Functional_programming | Procedural_programmin...</td>\n",
       "      <td>Cross-platform</td>\n",
       "      <td>Python_Software_Foundation_License</td>\n",
       "    </tr>\n",
       "    <tr>\n",
       "      <th>1</th>\n",
       "      <td>Python</td>\n",
       "      <td>RT aidotech: RT kdnuggets: 500 #DeepLearning P...</td>\n",
       "      <td>en</td>\n",
       "      <td>phoenix</td>\n",
       "      <td>Sun Nov 08 16:05:17 +0000 2015</td>\n",
       "      <td>Functional_programming | Procedural_programmin...</td>\n",
       "      <td>Cross-platform</td>\n",
       "      <td>Python_Software_Foundation_License</td>\n",
       "    </tr>\n",
       "    <tr>\n",
       "      <th>2</th>\n",
       "      <td>Python</td>\n",
       "      <td>RT kdnuggets: 500 #DeepLearning Papers, Graphv...</td>\n",
       "      <td>en</td>\n",
       "      <td>phoenix</td>\n",
       "      <td>Sun Nov 08 16:05:19 +0000 2015</td>\n",
       "      <td>Functional_programming | Procedural_programmin...</td>\n",
       "      <td>Cross-platform</td>\n",
       "      <td>Python_Software_Foundation_License</td>\n",
       "    </tr>\n",
       "    <tr>\n",
       "      <th>6</th>\n",
       "      <td>Python</td>\n",
       "      <td>RT @reubenbond: Most JS/Python/Ruby apps... ht...</td>\n",
       "      <td>en</td>\n",
       "      <td>☑ hype-ass lyrics ☑ dope beats</td>\n",
       "      <td>Sun Nov 08 16:05:46 +0000 2015</td>\n",
       "      <td>Functional_programming | Procedural_programmin...</td>\n",
       "      <td>Cross-platform</td>\n",
       "      <td>Python_Software_Foundation_License</td>\n",
       "    </tr>\n",
       "    <tr>\n",
       "      <th>7</th>\n",
       "      <td>Python</td>\n",
       "      <td>#Kivy.org Kivy – Interactive Applications and ...</td>\n",
       "      <td>en</td>\n",
       "      <td>Cartagena-Madrid</td>\n",
       "      <td>Sun Nov 08 16:05:50 +0000 2015</td>\n",
       "      <td>Functional_programming | Procedural_programmin...</td>\n",
       "      <td>Cross-platform</td>\n",
       "      <td>Python_Software_Foundation_License</td>\n",
       "    </tr>\n",
       "  </tbody>\n",
       "</table>\n",
       "</div>"
      ],
      "text/plain": [
       "  Language                                               text lang  \\\n",
       "0   Python  RT @johnhubner: #Python Programmer is out! htt...   en   \n",
       "1   Python  RT aidotech: RT kdnuggets: 500 #DeepLearning P...   en   \n",
       "2   Python  RT kdnuggets: 500 #DeepLearning Papers, Graphv...   en   \n",
       "6   Python  RT @reubenbond: Most JS/Python/Ruby apps... ht...   en   \n",
       "7   Python  #Kivy.org Kivy – Interactive Applications and ...   en   \n",
       "\n",
       "                          country                      created_at  \\\n",
       "0             Brighton & Hove, UK  Sun Nov 08 16:05:17 +0000 2015   \n",
       "1                        phoenix   Sun Nov 08 16:05:17 +0000 2015   \n",
       "2                        phoenix   Sun Nov 08 16:05:19 +0000 2015   \n",
       "6  ☑ hype-ass lyrics ☑ dope beats  Sun Nov 08 16:05:46 +0000 2015   \n",
       "7                Cartagena-Madrid  Sun Nov 08 16:05:50 +0000 2015   \n",
       "\n",
       "                                           Paradigms              OS  \\\n",
       "0  Functional_programming | Procedural_programmin...  Cross-platform   \n",
       "1  Functional_programming | Procedural_programmin...  Cross-platform   \n",
       "2  Functional_programming | Procedural_programmin...  Cross-platform   \n",
       "6  Functional_programming | Procedural_programmin...  Cross-platform   \n",
       "7  Functional_programming | Procedural_programmin...  Cross-platform   \n",
       "\n",
       "                              License  \n",
       "0  Python_Software_Foundation_License  \n",
       "1  Python_Software_Foundation_License  \n",
       "2  Python_Software_Foundation_License  \n",
       "6  Python_Software_Foundation_License  \n",
       "7  Python_Software_Foundation_License  "
      ]
     },
     "execution_count": 53,
     "metadata": {},
     "output_type": "execute_result"
    }
   ],
   "source": [
    "#merge dataframes on DF indexes for tweetsDF Language column \n",
    "mergedDF = pd.merge(tweetsDF,DF,left_on='Language',right_index=True)\n",
    "del mergedDF[\"Language_y\"]\n",
    "del mergedDF[\"Language_x\"]\n",
    "mergedDF.head()"
   ]
  },
  {
   "cell_type": "code",
   "execution_count": 54,
   "metadata": {
    "collapsed": false
   },
   "outputs": [],
   "source": [
    "#convert Twitter time to date format \n",
    "mergedDF['created_at'] = mergedDF['created_at'].apply(lambda created_at: datetime.strptime(created_at, \"%a %b %d %H:%M:%S +0000 %Y\") ,created_at)\n"
   ]
  },
  {
   "cell_type": "code",
   "execution_count": 161,
   "metadata": {
    "collapsed": false
   },
   "outputs": [],
   "source": [
    "del mergedDF[\"Python_Counts\"]"
   ]
  },
  {
   "cell_type": "markdown",
   "metadata": {},
   "source": [
    "# Heatmaps using Seaborn to show frequency of tweets for each language per day per hour"
   ]
  },
  {
   "cell_type": "code",
   "execution_count": 146,
   "metadata": {
    "collapsed": true
   },
   "outputs": [],
   "source": [
    "\"added come columns contaning day and hour for each tweets to make it easier to play with data\"\n",
    "mergedDF[\"Day\"] = mergedDF['created_at'].apply(lambda d: d.day)\n",
    "mergedDF[\"Hour\"] = mergedDF['created_at'].apply(lambda d: d.hour)"
   ]
  },
  {
   "cell_type": "code",
   "execution_count": 149,
   "metadata": {
    "collapsed": false
   },
   "outputs": [],
   "source": [
    "rfilter = mergedDF.loc[mergedDF[\"Language\"]==\"R\"]\n",
    "pythonfilter = mergedDF.loc[mergedDF[\"Language\"]==\"Python\"]"
   ]
  },
  {
   "cell_type": "code",
   "execution_count": 178,
   "metadata": {
    "collapsed": false,
    "scrolled": false
   },
   "outputs": [
    {
     "data": {
      "image/png": "[encoded data removed]",
      "text/plain": [
       "<matplotlib.figure.Figure at 0x7f34d704d2d0>"
      ]
     },
     "metadata": {},
     "output_type": "display_data"
    }
   ],
   "source": [
    "fig = plt.figure(figsize=(10, 10)) \n",
    "ax1 = plt.subplot(121)\n",
    "ax1.set_title(\"Number of tweets for R\",fontsize=15, fontweight='bold',color=\"black\")\n",
    "rpivot = pd.pivot_table(rfilter,values='Counts',index='Hour',columns='Day')\n",
    "sns.heatmap(rpivot, yticklabels=False,cmap='Blues',cbar_kws={\"orientation\": \"horizontal\"})\n",
    "ax2 = plt.subplot(122)\n",
    "ax2.set_title(\"Number of tweets for Python\",fontsize=15, fontweight='bold',color=\"black\")\n",
    "pythonpivot = pd.pivot_table(pythonfilter,values='Counts',index='Hour',columns='Day')\n",
    "sns.heatmap(pythonpivot, yticklabels=False,cmap='Blues',cbar_kws={\"orientation\": \"horizontal\"})\n",
    "plt.show()\n"
   ]
  },
  {
   "cell_type": "code",
   "execution_count": 69,
   "metadata": {
    "collapsed": false
   },
   "outputs": [],
   "source": [
    "mergedDF[\"Counts\"] = Series(mergedDF.groupby([\"Language\",mergedDF[\"created_at\"].map(lambda d: d.day),mergedDF[\"created_at\"].map(lambda d: d.hour)]).cumcount() + 1)"
   ]
  },
  {
   "cell_type": "code",
   "execution_count": 189,
   "metadata": {
    "collapsed": false
   },
   "outputs": [],
   "source": [
    "xs = Series(mergedDF[\"Counts\"].groupby([mergedDF[\"Language\"],mergedDF[\"created_at\"].map(lambda d: d.day),mergedDF[\"created_at\"].map(lambda d: d.hour)]).max())"
   ]
  },
  {
   "cell_type": "markdown",
   "metadata": {},
   "source": [
    "# Line chart about Twitter activity for R and Python "
   ]
  },
  {
   "cell_type": "code",
   "execution_count": 251,
   "metadata": {
    "collapsed": false
   },
   "outputs": [],
   "source": [
    "mergedDF = mergedDF.reset_index(drop=True)\n",
    "#get the max counts, i.e. number of tweets per day per hour \n",
    "rmax = Series(rfilter[\"Counts\"].groupby([rfilter[\"created_at\"].map(lambda d: d.day),rfilter[\"created_at\"].map(lambda d: d.hour)]).max())\n",
    "rfilter = rfilter.reset_index(drop=True)\n",
    "pythonmax = Series(pythonfilter[\"Counts\"].groupby([pythonfilter[\"created_at\"].map(lambda d: d.day),pythonfilter[\"created_at\"].map(lambda d: d.hour)]).max())\n",
    "pythonfilter = pythonfilter.reset_index(drop=True)\n",
    "rmax = rmax.tolist()\n",
    "pythonmax = pythonmax.tolist()\n",
    "\n",
    "#we want to retieve max tweet value / hour /day for each language along with the created_at date\n",
    "def get_date_of_max(df,dfmax):\n",
    "    store_date = []\n",
    "    j=0\n",
    "    for i in range(0, len(df)):\n",
    "        if (df.ix[i][\"Counts\"] == dfmax[j]):\n",
    "            store_date.append(df.ix[i][\"created_at\"])\n",
    "            j = j+1\n",
    "        else: \n",
    "            continue\n",
    "    return store_date\n",
    "y1 = rmax\n",
    "y2 = pythonmax\n",
    "ylist = y1 + y2 "
   ]
  },
  {
   "cell_type": "code",
   "execution_count": 252,
   "metadata": {
    "collapsed": false
   },
   "outputs": [
    {
     "data": {
      "text/plain": [
       "98"
      ]
     },
     "execution_count": 252,
     "metadata": {},
     "output_type": "execute_result"
    }
   ],
   "source": [
    "len(ylist)"
   ]
  },
  {
   "cell_type": "code",
   "execution_count": 266,
   "metadata": {
    "collapsed": false
   },
   "outputs": [
    {
     "data": {
      "text/html": [
       "<iframe id=\"igraph\" scrolling=\"no\" style=\"border:none;\"seamless=\"seamless\" src=\"https://plot.ly/~kevllino/299.embed\" height=\"525px\" width=\"100%\"></iframe>"
      ],
      "text/plain": [
       "<plotly.tools.PlotlyDisplay object>"
      ]
     },
     "execution_count": 266,
     "metadata": {},
     "output_type": "execute_result"
    }
   ],
   "source": [
    "x1 = get_date_of_max(rfilter,rmax)\n",
    "y1 = rmax\n",
    "x2 = get_date_of_max(pythonfilter,pythonmax)\n",
    "y2 = pythonmax\n",
    "ylist = []\n",
    "ylist.append(y1)\n",
    "ylist.append(y2)\n",
    "# Create a trace\n",
    "trace1 = go.Scatter(\n",
    "    x = x1,\n",
    "    y = y1,\n",
    "    name=\"Tweets about R\",\n",
    "    line = dict(\n",
    "        color = '#4099FF',\n",
    "              \n",
    "    )\n",
    ")\n",
    "\n",
    "trace2 = go.Scatter(\n",
    "    x = x2,\n",
    "    y = y2,\n",
    "    name=\"Tweets about Python\",\n",
    "    line = dict(\n",
    "        color = '#FFA300',\n",
    "              \n",
    "    )\n",
    ")\n",
    "\n",
    "# Edit the layout\n",
    "\n",
    "layout = go.Layout(dict(title = 'Tweeter activity for R and Python',\n",
    "              xaxis = dict(title = 'Date of creation of the tweet'),\n",
    "              yaxis = dict(title = 'Number of Tweets Per hour'),\n",
    "              \n",
    "             )\n",
    "        )\n",
    "            \n",
    "\n",
    "# Plot and embed in ipython notebook!\n",
    "data = [trace1,trace2]\n",
    "fig = dict(data=data, layout=layout)\n",
    "# Plot and embed in ipython notebook!\n",
    "py.iplot(fig, filename='basic-line')\n"
   ]
  }
 ],
 "metadata": {
  "kernelspec": {
   "display_name": "Python 2",
   "language": "python",
   "name": "python2"
  },
  "language_info": {
   "codemirror_mode": {
    "name": "ipython",
    "version": 2
   },
   "file_extension": ".py",
   "mimetype": "text/x-python",
   "name": "python",
   "nbconvert_exporter": "python",
   "pygments_lexer": "ipython2",
   "version": "2.7.10"
  }
 },
 "nbformat": 4,
 "nbformat_minor": 0
}
